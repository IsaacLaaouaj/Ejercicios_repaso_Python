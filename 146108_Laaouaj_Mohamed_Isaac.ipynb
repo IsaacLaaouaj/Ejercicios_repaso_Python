{
 "cells": [
  {
   "attachments": {},
   "cell_type": "markdown",
   "metadata": {},
   "source": [
    "# Ejercicios de repaso"
   ]
  },
  {
   "attachments": {},
   "cell_type": "markdown",
   "metadata": {},
   "source": [
    "### 1. Ejercicios de repaso de tipos de datos"
   ]
  },
  {
   "cell_type": "code",
   "execution_count": 1,
   "metadata": {},
   "outputs": [
    {
     "data": {
      "text/plain": [
       "3"
      ]
     },
     "execution_count": 1,
     "metadata": {},
     "output_type": "execute_result"
    }
   ],
   "source": [
    "#Suma de enteros: Solicita al usuario que ingrese dos números enteros y luego muestra la suma de esos números.\n",
    "def suma(a, b):\n",
    "    return a + b"
   ]
  },
  {
   "cell_type": "code",
   "execution_count": null,
   "metadata": {},
   "outputs": [],
   "source": [
    "#Calculadora de BMI: Pide al usuario su peso en kilogramos y su altura en metros. Calcula el índice de masa corporal (BMI) usando la fórmula: BMI = peso / (altura * altura). Luego, muestra el resultado:\n",
    "def calcular_bmi():\n",
    "    peso = float(input(\"Ingresa tu peso en kilogramos: \"))\n",
    "    altura = float(input(\"Ingresa tu altura en metros: \"))\n",
    "\n",
    "    bmi = peso / (altura * altura)\n",
    "\n",
    "    print(\"Tu índice de masa corporal (BMI) es: {:.2f}\".format(bmi))\n",
    "\n",
    "calcular_bmi()\n"
   ]
  },
  {
   "cell_type": "code",
   "execution_count": 5,
   "metadata": {},
   "outputs": [
    {
     "name": "stdout",
     "output_type": "stream",
     "text": [
      "Longitud: 4, Primer carácter: h, Último carácter: a\n"
     ]
    }
   ],
   "source": [
    "#Manipulación de cadenas: Toma una cadena de texto como entrada y muestra la longitud de la cadena, el primer y último carácter, y la cadena en mayúsculas:\n",
    "cadena = list(input(\"Dime algo: \"))\n",
    "print(f\"Longitud: {len(cadena)}, Primer carácter: {cadena[0]}, Último carácter: {cadena[-1]}\")\n",
    "\n"
   ]
  },
  {
   "cell_type": "code",
   "execution_count": 6,
   "metadata": {},
   "outputs": [
    {
     "data": {
      "text/plain": [
       "68.0"
      ]
     },
     "execution_count": 6,
     "metadata": {},
     "output_type": "execute_result"
    }
   ],
   "source": [
    "#Conversión de temperaturas: Solicita al usuario una temperatura en grados Celsius y conviértela a grados Fahrenheit utilizando la fórmula: Fahrenheit = (Celsius * 9/5) + 32.\n",
    "def grados(x):\n",
    "    x = int(input(\"Dime una temperatura en grados Celsius: \"))\n",
    "    f = (x * 9/5) + 32\n",
    "    return f"
   ]
  },
  {
   "cell_type": "code",
   "execution_count": 7,
   "metadata": {},
   "outputs": [
    {
     "name": "stdout",
     "output_type": "stream",
     "text": [
      "0\n",
      "2\n",
      "4\n",
      "6\n",
      "8\n",
      "10\n"
     ]
    }
   ],
   "source": [
    "#Lista de números pares:  Genera una lista de los primeros 10 números pares (utilizando un bucle for) y muestra la lista  resultante.\n",
    "\n",
    "for i in range(11):numeros_pares = []\n",
    "for i in range(2, 21, 2):\n",
    "    numeros_pares.append(i)\n",
    "\n",
    "print(numeros_pares)\n",
    "\n"
   ]
  },
  {
   "cell_type": "code",
   "execution_count": 8,
   "metadata": {},
   "outputs": [
    {
     "name": "stdout",
     "output_type": "stream",
     "text": [
      "v\n"
     ]
    }
   ],
   "source": [
    "#Tupla de colores: Crea una tupla con tres colores de tu elección y muestra el segundo color de la tupla.\n",
    "tupla = (\"r\", \"v\", \"a\")\n",
    "print(tupla[1])"
   ]
  },
  {
   "cell_type": "code",
   "execution_count": 15,
   "metadata": {},
   "outputs": [
    {
     "name": "stdout",
     "output_type": "stream",
     "text": [
      "{'a', 'd', 't', 'c', 'b', 'e'} {'a'} {'c', 'b'}\n"
     ]
    }
   ],
   "source": [
    "#Operaciones con conjuntos: Crea dos conjuntos con elementos repetidos y realiza la unión, la intersección y la diferencia entre ellos.\n",
    "l1 = {\"a\", \"b\", \"c\"} \n",
    "l2 = {\"a\", \"d\", \"e\", \"t\"}\n",
    "\n",
    "union = l1 | l2\n",
    "interseccion = l1 & l2\n",
    "dif = l1 - l2\n",
    "print(union, interseccion, dif)"
   ]
  },
  {
   "cell_type": "code",
   "execution_count": 16,
   "metadata": {},
   "outputs": [
    {
     "name": "stdout",
     "output_type": "stream",
     "text": [
      "{'jose': 63}\n"
     ]
    }
   ],
   "source": [
    "#Diccionario de contactos: Crea un diccionario que almacene los nombres y números de teléfono de tus contactos. Luego, permite al usuario buscar un contacto por nombre y mostrar su número:\n",
    "\n",
    "dicc = {}\n",
    "def agenda(buscar):\n",
    "    contacto = input(\"Nombre del contacto: \")\n",
    "    numero = int(input(\"Dime el número de tlf: \"))\n",
    "    dicc[contacto] = numero\n",
    "    buscar = \n",
    "    \n",
    "\n"
   ]
  },
  {
   "cell_type": "code",
   "execution_count": null,
   "metadata": {},
   "outputs": [],
   "source": [
    "#Comprobación de valores booleanos:  Pide al usuario que ingrese dos valores booleanos (True o False) e imprime el resultado de las  operaciones lógicas AND, OR y NOT entre esos valores.\n",
    "valor1 = input(\"Ingresa el primer valor booleano (True o False): \").lower() == 'true'\n",
    "valor2 = input(\"Ingresa el segundo valor booleano (True o False): \").lower() == 'true'\n",
    "\n",
    "resultado_and = valor1 and valor2\n",
    "resultado_or = valor1 or valor2\n",
    "resultado_not1 = not valor1\n",
    "resultado_not2 = not valor2\n",
    "\n",
    "print(f\"AND: {resultado_and}\")\n",
    "print(f\"OR: {resultado_or}\")\n",
    "print(f\"NOT para el primer valor: {resultado_not1}\")\n",
    "print(f\"NOT para el segundo valor: {resultado_not2}\")\n"
   ]
  },
  {
   "cell_type": "code",
   "execution_count": null,
   "metadata": {},
   "outputs": [],
   "source": [
    "#Conversiones de tipos: Toma un número como entrada y conviértelo a entero, flotante y cadena. Luego, muestra los  resultados en diferentes líneas.\n",
    "numero = input(\"Ingrese un número: \")\n",
    "entero = int(numero)\n",
    "flotante = float(numero)\n",
    "cadena = str(numero)\n",
    "\n",
    "print(\"Entero:\", entero)\n",
    "print(\"Flotante:\", flotante)\n",
    "print(\"Cadena:\", cadena)\n"
   ]
  },
  {
   "cell_type": "code",
   "execution_count": null,
   "metadata": {},
   "outputs": [],
   "source": [
    "#.Conteo de caracteres: Solicita al usuario que ingrese una cadena de texto y luego cuenta y muestra la cantidad de caracteres alfabéticos (letras) en la cadena.\n",
    "cadena = input(\"Ingrese una cadena de texto: \")\n",
    "conteo_letras = sum(c.isalpha() for c in cadena)\n",
    "print(f\"La cantidad de caracteres alfabéticos en la cadena es: {conteo_letras}\")\n"
   ]
  },
  {
   "cell_type": "code",
   "execution_count": null,
   "metadata": {},
   "outputs": [],
   "source": [
    "#.Suma de elementos de una lista: Crea una lista de números y calcula la suma de todos los elementos de la lista.\n",
    "lista_numeros = [1, 2, 3, 4, 5]\n",
    "suma_elementos = sum(lista_numeros)\n",
    "print(suma_elementos)\n"
   ]
  },
  {
   "cell_type": "code",
   "execution_count": null,
   "metadata": {},
   "outputs": [],
   "source": [
    "#Reemplazo de caracteres: Pide al usuario que ingrese una cadena de texto y reemplaza todas las ocurrencias de un carácter  específico en la cadena por otro carácter.\n",
    "cadena_original = input(\"Ingresa una cadena de texto: \")\n",
    "caracter_original = input(\"Ingresa el carácter que deseas reemplazar: \")\n",
    "caracter_nuevo = input(\"Ingresa el nuevo carácter: \")\n",
    "\n",
    "cadena_modificada = cadena_original.replace(caracter_original, caracter_nuevo)\n",
    "\n",
    "print(\"Cadena original:\", cadena_original)\n",
    "print(\"Cadena modificada:\", cadena_modificada)\n"
   ]
  },
  {
   "cell_type": "code",
   "execution_count": null,
   "metadata": {},
   "outputs": [],
   "source": [
    "#Días vividos: Pide al usuario su fecha de nacimiento (año, mes y día) y calcula cuántos días ha vivido hasta la fecha actual.\n",
    "from datetime import datetime\n",
    "\n",
    "def calcular_dias_vividos():\n",
    "    fecha_nacimiento_str = input(\"Ingresa tu fecha de nacimiento (año, mes, día) en formato YYYY-MM-DD: \")\n",
    "    fecha_nacimiento = datetime.strptime(fecha_nacimiento_str, \"%Y-%m-%d\")\n",
    "    \n",
    "    fecha_actual = datetime.now()\n",
    "    dias_vividos = (fecha_actual - fecha_nacimiento).days\n",
    "    \n",
    "    print(f\"Has vivido {dias_vividos} días.\")\n",
    "\n",
    "calcular_dias_vividos()\n"
   ]
  },
  {
   "cell_type": "code",
   "execution_count": null,
   "metadata": {},
   "outputs": [],
   "source": [
    "# Ordenar una lista: Crea una lista desordenada de números y ordénala de menor a mayor sin usar la función sorted()\n",
    "lista = [4, 1, 8, 3, 6, 2, 7, 5]\n",
    "\n",
    "for i in range(len(lista)):\n",
    "    for j in range(0, len(lista)-i-1):\n",
    "        if lista[j] > lista[j+1]:\n",
    "            lista[j], lista[j+1] = lista[j+1], lista[j]\n",
    "\n",
    "print(lista)\n"
   ]
  },
  {
   "cell_type": "code",
   "execution_count": null,
   "metadata": {},
   "outputs": [],
   "source": [
    "#Calificación promedio: Solicita al usuario que ingrese las calificaciones de un estudiante en tres asignaturas diferentes y calcula el promedio de las calificaciones.\n",
    "nota1 = float(input(\"Ingrese la calificación en la primera: \"))\n",
    "nota2 = float(input(\"Ingrese la calificación en la segunda : \"))\n",
    "nota3 = float(input(\"Ingrese la calificación en la tercera : \"))\n",
    "\n",
    "promedio = (nota1 + nota2 + nota3) / 3\n",
    "\n",
    "print(f\"El promedio de las calificaciones es: {promedio}\")\n"
   ]
  },
  {
   "cell_type": "code",
   "execution_count": null,
   "metadata": {},
   "outputs": [],
   "source": [
    "#Diferencia de fechas: Pide al usuario dos fechas (en formato \"dd/mm/aaaa\") y calcula la diferencia en días entre las dos fechas.\n",
    "from datetime import datetime\n",
    "\n",
    "fecha1_str = input(\"Ingrese la primera fecha (dd/mm/aaaa): \")\n",
    "fecha2_str = input(\"Ingrese la segunda fecha (dd/mm/aaaa): \")\n",
    "\n",
    "fecha_formato = \"%d/%m/%Y\"\n",
    "\n",
    "fecha1 = datetime.strptime(fecha1_str, fecha_formato)\n",
    "fecha2 = datetime.strptime(fecha2_str, fecha_formato)\n",
    "\n",
    "diferencia = abs((fecha2 - fecha1).days)\n",
    "\n",
    "print(f\"La diferencia en días entre las dos fechas es: {diferencia} días\")\n"
   ]
  },
  {
   "cell_type": "code",
   "execution_count": null,
   "metadata": {},
   "outputs": [],
   "source": [
    "#Listas en Python\n",
    "mi_lista = [5, 2, 7, 1, 8]\n",
    "\n",
    "mi_lista.extend([10, 3])\n",
    "\n",
    "mi_lista.insert(2, 4)\n",
    "\n",
    "mi_lista.remove(7)\n",
    "\n",
    "indice = mi_lista.index(8)\n",
    "\n",
    "conteo = mi_lista.count(4)\n",
    "\n",
    "mi_lista.sort()\n",
    "\n",
    "mi_lista.reverse()\n",
    "\n",
    "mi_lista.clear()\n",
    "\n",
    "print(\"Lista resultante:\", mi_lista)\n",
    "print(\"Elemento eliminado:\", elemento_eliminado)\n",
    "print(\"Índice de 8:\", indice)\n",
    "print(\"Cantidad de veces que aparece 4:\", conteo)\n"
   ]
  },
  {
   "cell_type": "code",
   "execution_count": null,
   "metadata": {},
   "outputs": [],
   "source": [
    "#Tuplas en Python – Selección Femenina de Fútbol:\n",
    "\n",
    "jugadora1 = (\"Laura\", 10, 15)\n",
    "jugadora2 = (\"Ana\", 7, 20)\n",
    "jugadora3 = (\"María\", 5, 12)\n",
    "jugadora4 = (\"Elena\", 9, 18)\n",
    "jugadora5 = (\"Sara\", 11, 22)\n",
    "\n",
    "registro_rendimiento = [jugadora1, jugadora2, jugadora3, jugadora4, jugadora5]\n",
    "\n",
    "def promedio_goles(registro):\n",
    "    total_goles = sum(jugador[2] for jugador in registro)\n",
    "    return total_goles / len(registro)\n",
    "\n",
    "def mejor_goleadora(registro):\n",
    "    mejor_jugadora = max(registro, key=lambda x: x[2])\n",
    "    return mejor_jugadora[0]\n",
    "\n",
    "def buscar_jugadora(registro, numero_camiseta):\n",
    "    for jugador in registro:\n",
    "        if jugador[1] == numero_camiseta:\n",
    "            return jugador[0], jugador[2]\n",
    "    return \"La jugadora no está en el registro.\"\n",
    "\n",
    "promedio = promedio_goles(registro_rendimiento)\n",
    "mejor_goleadora_nombre = mejor_goleadora(registro_rendimiento)\n",
    "buscar_resultado = buscar_jugadora(registro_rendimiento, 9)\n",
    "\n",
    "print(f\"Promedio de goles: {promedio}\")\n",
    "print(f\"Mejor goleadora: {mejor_goleadora_nombre}\")\n",
    "print(f\"Resultado de búsqueda: {buscar_resultado}\")\n",
    "\n"
   ]
  },
  {
   "cell_type": "code",
   "execution_count": null,
   "metadata": {},
   "outputs": [],
   "source": [
    "#Diccionarios en Python - Pokedex\n",
    "class Pokedex:\n",
    "    def __init__(self):\n",
    "        self.pokedex = {}\n",
    "\n",
    "    def agregar_pokemon(self, nombre, tipo, hp, atk, defe):\n",
    "        self.pokedex[nombre] = {\"Tipo\": tipo, \"HP\": hp, \"ATK\": atk, \"DEF\": defe}\n",
    "\n",
    "    def eliminar_pokemon(self, nombre):\n",
    "        if nombre in self.pokedex:\n",
    "            del self.pokedex[nombre]\n",
    "            print(f\"{nombre} ha sido eliminado de la Pokedex.\")\n",
    "        else:\n",
    "            print(f\"{nombre} no se encuentra en la Pokedex.\")\n",
    "\n",
    "    def mostrar_informacion_pokemon(self, nombre):\n",
    "        if nombre in self.pokedex:\n",
    "            info = self.pokedex[nombre]\n",
    "            print(f\"Información de {nombre}:\")\n",
    "            print(f\"Tipo: {info['Tipo']}\")\n",
    "            print(f\"HP: {info['HP']}\")\n",
    "            print(f\"ATK: {info['ATK']}\")\n",
    "            print(f\"DEF: {info['DEF']}\")\n",
    "        else:\n",
    "            print(f\"{nombre} no se encuentra en la Pokedex.\")\n",
    "\n",
    "    def mostrar_catalogo(self):\n",
    "        print(\"Catálogo de Pokémon en la Pokedex:\")\n",
    "        for nombre in self.pokedex:\n",
    "            print(nombre)\n",
    "\n",
    "pokedex_instancia = Pokedex()\n",
    "\n",
    "pokedex_instancia.agregar_pokemon(\"Charizard\", \"Fuego\", 78, 84, 78)\n",
    "pokedex_instancia.agregar_pokemon(\"Blastoise\", \"Agua\", 79, 83, 100)\n",
    "pokedex_instancia.agregar_pokemon(\"Venusaur\", \"Planta\", 80, 82, 83)\n",
    "\n",
    "pokedex_instancia.mostrar_informacion_pokemon(\"Charizard\")\n",
    "\n",
    "pokedex_instancia.eliminar_pokemon(\"Blastoise\")\n",
    "\n",
    "pokedex_instancia.mostrar_catalogo()\n"
   ]
  },
  {
   "cell_type": "code",
   "execution_count": null,
   "metadata": {},
   "outputs": [],
   "source": [
    "#Ejercicio de POO - Gestión de una Biblioteca\n",
    "class Libro:\n",
    "    def __init__(self, titulo, autor, ano_publicacion):\n",
    "        self.titulo = titulo\n",
    "        self.autor = autor\n",
    "        self.ano_publicacion = ano_publicacion\n",
    "\n",
    "    def mostrar_informacion(self):\n",
    "        print(f\"Título: {self.titulo}\")\n",
    "        print(f\"Autor: {self.autor}\")\n",
    "        print(f\"Año de Publicación: {self.ano_publicacion}\")\n",
    "        print(\"\\n\")\n",
    "\n",
    "\n",
    "class Biblioteca:\n",
    "    def __init__(self, nombre):\n",
    "        self.nombre = nombre\n",
    "        self.libros_disponibles = []\n",
    "\n",
    "    def agregar_libro(self, libro):\n",
    "        self.libros_disponibles.append(libro)\n",
    "        print(f\"Libro '{libro.titulo}' agregado a la biblioteca.\")\n",
    "\n",
    "    def prestar_libro(self, titulo):\n",
    "        for libro in self.libros_disponibles:\n",
    "            if libro.titulo == titulo:\n",
    "                self.libros_disponibles.remove(libro)\n",
    "                print(f\"Libro '{titulo}' prestado.\")\n",
    "                return libro\n",
    "        print(f\"Libro '{titulo}' no encontrado en la biblioteca.\")\n",
    "        return None\n",
    "\n",
    "    def devolver_libro(self, libro):\n",
    "        self.libros_disponibles.append(libro)\n",
    "        print(f\"Libro '{libro.titulo}' devuelto.\")\n",
    "\n",
    "    def mostrar_catalogo(self):\n",
    "        print(f\"Catálogo de libros en la biblioteca '{self.nombre}':\")\n",
    "        for libro in self.libros_disponibles:\n",
    "            libro.mostrar_informacion()\n",
    "\n",
    "libro1 = Libro(\"Harry Potter y la piedra filosofal\", \"J.K. Rowling\", 1997)\n",
    "libro2 = Libro(\"1984\", \"George Orwell\", 1949)\n",
    "libro3 = Libro(\"Cien años de soledad\", \"Gabriel García Márquez\", 1967)\n",
    "\n",
    "mi_biblioteca = Biblioteca(\"Biblioteca Central\")\n",
    "\n",
    "mi_biblioteca.agregar_libro(libro1)\n",
    "mi_biblioteca.agregar_libro(libro2)\n",
    "mi_biblioteca.agregar_libro(libro3)\n",
    "\n",
    "mi_biblioteca.mostrar_catalogo()\n",
    "\n",
    "libro_prestado = mi_biblioteca.prestar_libro(\"1984\")\n",
    "\n",
    "mi_biblioteca.mostrar_catalogo()\n",
    "\n",
    "mi_biblioteca.devolver_libro(libro_prestado)\n",
    "\n",
    "mi_biblioteca.mostrar_catalogo()\n"
   ]
  }
 ],
 "metadata": {
  "kernelspec": {
   "display_name": "Python 3",
   "language": "python",
   "name": "python3"
  },
  "language_info": {
   "codemirror_mode": {
    "name": "ipython",
    "version": 3
   },
   "file_extension": ".py",
   "mimetype": "text/x-python",
   "name": "python",
   "nbconvert_exporter": "python",
   "pygments_lexer": "ipython3",
   "version": "3.11.5"
  },
  "orig_nbformat": 4
 },
 "nbformat": 4,
 "nbformat_minor": 2
}
